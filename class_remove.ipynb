{
 "cells": [
  {
   "cell_type": "code",
   "execution_count": 1,
   "metadata": {},
   "outputs": [],
   "source": [
    "import numpy as np \n",
    "import pandas as pd \n",
    "from pathlib import Path\n",
    "from xml.dom.minidom import parse\n",
    "from shutil import copyfile, move\n",
    "import os"
   ]
  },
  {
   "cell_type": "code",
   "execution_count": 1,
   "metadata": {},
   "outputs": [
    {
     "name": "stdout",
     "output_type": "stream",
     "text": [
      "2405\n"
     ]
    }
   ],
   "source": [
    "labels_path = \"C:/hardhat/datasets/SCUT_HEAD_Part_B/Annotations/\"\n",
    "\n",
    "labels = os.listdir(labels_path)\n",
    "print(len(labels))"
   ]
  },
  {
   "cell_type": "code",
   "execution_count": 34,
   "metadata": {},
   "outputs": [],
   "source": [
    "import xml.etree.ElementTree as ET\n",
    "\n",
    "for label in labels:\n",
    "    xmlTree = ET.parse(labels_path + label)\n",
    "    root = xmlTree.getroot()\n",
    "    for name in root.iter(\"name\"):\n",
    "        name.text = \"head\"\n",
    "\n",
    "    xmlTree.write(labels_path + label)\n",
    "\n"
   ]
  },
  {
   "cell_type": "code",
   "execution_count": 31,
   "metadata": {},
   "outputs": [],
   "source": []
  }
 ],
 "metadata": {
  "interpreter": {
   "hash": "c6e95b56b10e85322e4ea26c0cfc3adc45464e01fd9202b93ffffd4d09c24cee"
  },
  "kernelspec": {
   "display_name": "Python 3.9.7 ('hardhat')",
   "language": "python",
   "name": "python3"
  },
  "language_info": {
   "codemirror_mode": {
    "name": "ipython",
    "version": 3
   },
   "file_extension": ".py",
   "mimetype": "text/x-python",
   "name": "python",
   "nbconvert_exporter": "python",
   "pygments_lexer": "ipython3",
   "version": "3.9.7"
  },
  "orig_nbformat": 4
 },
 "nbformat": 4,
 "nbformat_minor": 2
}
