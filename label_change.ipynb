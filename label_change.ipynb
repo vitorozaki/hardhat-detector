{
 "cells": [
  {
   "cell_type": "code",
   "execution_count": 4,
   "metadata": {},
   "outputs": [],
   "source": [
    "path = \"C:/hardhat/datasets/heads/train/labels\""
   ]
  },
  {
   "cell_type": "code",
   "execution_count": 5,
   "metadata": {},
   "outputs": [],
   "source": [
    "import os "
   ]
  },
  {
   "cell_type": "code",
   "execution_count": 32,
   "metadata": {},
   "outputs": [],
   "source": [
    "labels = os.listdir(path)\n",
    "for label in labels:\n",
    "    with open (path + \"/\" + label, \"r\") as f:\n",
    "        text = \"\"\n",
    "        lines = f.readlines()\n",
    "        for line in lines:\n",
    "            line = line.replace(\"0\", \"1\", 1)\n",
    "            text += line\n",
    "    with open (path + \"/\" + label, \"w\") as f:\n",
    "        f.write(text)\n"
   ]
  },
  {
   "cell_type": "code",
   "execution_count": 29,
   "metadata": {},
   "outputs": [
    {
     "name": "stdout",
     "output_type": "stream",
     "text": [
      "1 0.49373983739837396 0.4122881355932203 0.5856910569105691 0.6889830508474576\n"
     ]
    }
   ],
   "source": [
    "with open (\"C:/hardhat/datasets/heads/train/labels/013869_jpg.rf.856f85badab0b1de3274569ee18485fb.txt\", \"r+\") as f:\n",
    "        text = \"\"\n",
    "        lines = f.readlines()\n",
    "        for line in lines:\n",
    "            line = line.replace(\"0\", \"1\", 1)\n",
    "            text += line\n",
    "        print(text)\n",
    "            \n",
    "        "
   ]
  }
 ],
 "metadata": {
  "interpreter": {
   "hash": "c6e95b56b10e85322e4ea26c0cfc3adc45464e01fd9202b93ffffd4d09c24cee"
  },
  "kernelspec": {
   "display_name": "Python 3.9.7 ('hardhat')",
   "language": "python",
   "name": "python3"
  },
  "language_info": {
   "codemirror_mode": {
    "name": "ipython",
    "version": 3
   },
   "file_extension": ".py",
   "mimetype": "text/x-python",
   "name": "python",
   "nbconvert_exporter": "python",
   "pygments_lexer": "ipython3",
   "version": "3.9.7"
  },
  "orig_nbformat": 4
 },
 "nbformat": 4,
 "nbformat_minor": 2
}
